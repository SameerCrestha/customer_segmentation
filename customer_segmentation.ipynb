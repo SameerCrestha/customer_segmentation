{
 "cells": [
  {
   "cell_type": "code",
   "execution_count": 39,
   "id": "12b0fbd9",
   "metadata": {
    "_cell_guid": "b1076dfc-b9ad-4769-8c92-a6c4dae69d19",
    "_uuid": "8f2839f25d086af736a60e9eeb907d3b93b6e0e5",
    "execution": {
     "iopub.execute_input": "2024-07-02T12:19:39.049951Z",
     "iopub.status.busy": "2024-07-02T12:19:39.049553Z",
     "iopub.status.idle": "2024-07-02T12:19:42.098931Z",
     "shell.execute_reply": "2024-07-02T12:19:42.097509Z"
    },
    "papermill": {
     "duration": 3.066499,
     "end_time": "2024-07-02T12:19:42.101890",
     "exception": false,
     "start_time": "2024-07-02T12:19:39.035391",
     "status": "completed"
    },
    "tags": []
   },
   "outputs": [],
   "source": [
    "import numpy as np \n",
    "import pandas as pd \n",
    "import matplotlib.pyplot as plt\n",
    "import seaborn as sns\n",
    "from sklearn.preprocessing import StandardScaler, OneHotEncoder\n",
    "from sklearn.impute import SimpleImputer\n",
    "from scipy.cluster.hierarchy import fcluster, dendrogram, linkage"
   ]
  },
  {
   "cell_type": "markdown",
   "id": "30d554bc",
   "metadata": {
    "papermill": {
     "duration": 0.012086,
     "end_time": "2024-07-02T12:19:42.126188",
     "exception": false,
     "start_time": "2024-07-02T12:19:42.114102",
     "status": "completed"
    },
    "tags": []
   },
   "source": [
    "## Exploratory Analysis"
   ]
  },
  {
   "cell_type": "code",
   "execution_count": 40,
   "id": "cd81d20a",
   "metadata": {
    "execution": {
     "iopub.execute_input": "2024-07-02T12:19:42.151906Z",
     "iopub.status.busy": "2024-07-02T12:19:42.151323Z",
     "iopub.status.idle": "2024-07-02T12:19:42.176916Z",
     "shell.execute_reply": "2024-07-02T12:19:42.175854Z"
    },
    "papermill": {
     "duration": 0.041263,
     "end_time": "2024-07-02T12:19:42.179657",
     "exception": false,
     "start_time": "2024-07-02T12:19:42.138394",
     "status": "completed"
    },
    "tags": []
   },
   "outputs": [],
   "source": [
    "df = pd.read_csv(\"customer_segmentation_data.csv\")"
   ]
  },
  {
   "cell_type": "code",
   "execution_count": 41,
   "id": "182f4e9c",
   "metadata": {
    "execution": {
     "iopub.execute_input": "2024-07-02T12:19:42.204830Z",
     "iopub.status.busy": "2024-07-02T12:19:42.204433Z",
     "iopub.status.idle": "2024-07-02T12:19:42.236802Z",
     "shell.execute_reply": "2024-07-02T12:19:42.235581Z"
    },
    "papermill": {
     "duration": 0.04793,
     "end_time": "2024-07-02T12:19:42.239527",
     "exception": false,
     "start_time": "2024-07-02T12:19:42.191597",
     "status": "completed"
    },
    "tags": []
   },
   "outputs": [
    {
     "name": "stdout",
     "output_type": "stream",
     "text": [
      "<class 'pandas.core.frame.DataFrame'>\n",
      "RangeIndex: 1000 entries, 0 to 999\n",
      "Data columns (total 9 columns):\n",
      " #   Column                Non-Null Count  Dtype  \n",
      "---  ------                --------------  -----  \n",
      " 0   id                    1000 non-null   int64  \n",
      " 1   age                   1000 non-null   int64  \n",
      " 2   gender                1000 non-null   object \n",
      " 3   income                1000 non-null   int64  \n",
      " 4   spending_score        1000 non-null   int64  \n",
      " 5   membership_years      1000 non-null   int64  \n",
      " 6   purchase_frequency    1000 non-null   int64  \n",
      " 7   preferred_category    1000 non-null   object \n",
      " 8   last_purchase_amount  1000 non-null   float64\n",
      "dtypes: float64(1), int64(6), object(2)\n",
      "memory usage: 70.4+ KB\n"
     ]
    }
   ],
   "source": [
    "df.info()"
   ]
  },
  {
   "cell_type": "code",
   "execution_count": 42,
   "id": "267e9189",
   "metadata": {
    "execution": {
     "iopub.execute_input": "2024-07-02T12:19:42.265155Z",
     "iopub.status.busy": "2024-07-02T12:19:42.264735Z",
     "iopub.status.idle": "2024-07-02T12:19:42.286827Z",
     "shell.execute_reply": "2024-07-02T12:19:42.285771Z"
    },
    "papermill": {
     "duration": 0.037694,
     "end_time": "2024-07-02T12:19:42.289377",
     "exception": false,
     "start_time": "2024-07-02T12:19:42.251683",
     "status": "completed"
    },
    "tags": []
   },
   "outputs": [
    {
     "data": {
      "text/html": [
       "<div>\n",
       "<style scoped>\n",
       "    .dataframe tbody tr th:only-of-type {\n",
       "        vertical-align: middle;\n",
       "    }\n",
       "\n",
       "    .dataframe tbody tr th {\n",
       "        vertical-align: top;\n",
       "    }\n",
       "\n",
       "    .dataframe thead th {\n",
       "        text-align: right;\n",
       "    }\n",
       "</style>\n",
       "<table border=\"1\" class=\"dataframe\">\n",
       "  <thead>\n",
       "    <tr style=\"text-align: right;\">\n",
       "      <th></th>\n",
       "      <th>id</th>\n",
       "      <th>age</th>\n",
       "      <th>gender</th>\n",
       "      <th>income</th>\n",
       "      <th>spending_score</th>\n",
       "      <th>membership_years</th>\n",
       "      <th>purchase_frequency</th>\n",
       "      <th>preferred_category</th>\n",
       "      <th>last_purchase_amount</th>\n",
       "    </tr>\n",
       "  </thead>\n",
       "  <tbody>\n",
       "    <tr>\n",
       "      <th>0</th>\n",
       "      <td>1</td>\n",
       "      <td>38</td>\n",
       "      <td>Female</td>\n",
       "      <td>99342</td>\n",
       "      <td>90</td>\n",
       "      <td>3</td>\n",
       "      <td>24</td>\n",
       "      <td>Groceries</td>\n",
       "      <td>113.53</td>\n",
       "    </tr>\n",
       "    <tr>\n",
       "      <th>1</th>\n",
       "      <td>2</td>\n",
       "      <td>21</td>\n",
       "      <td>Female</td>\n",
       "      <td>78852</td>\n",
       "      <td>60</td>\n",
       "      <td>2</td>\n",
       "      <td>42</td>\n",
       "      <td>Sports</td>\n",
       "      <td>41.93</td>\n",
       "    </tr>\n",
       "    <tr>\n",
       "      <th>2</th>\n",
       "      <td>3</td>\n",
       "      <td>60</td>\n",
       "      <td>Female</td>\n",
       "      <td>126573</td>\n",
       "      <td>30</td>\n",
       "      <td>2</td>\n",
       "      <td>28</td>\n",
       "      <td>Clothing</td>\n",
       "      <td>424.36</td>\n",
       "    </tr>\n",
       "    <tr>\n",
       "      <th>3</th>\n",
       "      <td>4</td>\n",
       "      <td>40</td>\n",
       "      <td>Other</td>\n",
       "      <td>47099</td>\n",
       "      <td>74</td>\n",
       "      <td>9</td>\n",
       "      <td>5</td>\n",
       "      <td>Home &amp; Garden</td>\n",
       "      <td>991.93</td>\n",
       "    </tr>\n",
       "    <tr>\n",
       "      <th>4</th>\n",
       "      <td>5</td>\n",
       "      <td>65</td>\n",
       "      <td>Female</td>\n",
       "      <td>140621</td>\n",
       "      <td>21</td>\n",
       "      <td>3</td>\n",
       "      <td>25</td>\n",
       "      <td>Electronics</td>\n",
       "      <td>347.08</td>\n",
       "    </tr>\n",
       "  </tbody>\n",
       "</table>\n",
       "</div>"
      ],
      "text/plain": [
       "   id  age  gender  income  spending_score  membership_years  \\\n",
       "0   1   38  Female   99342              90                 3   \n",
       "1   2   21  Female   78852              60                 2   \n",
       "2   3   60  Female  126573              30                 2   \n",
       "3   4   40   Other   47099              74                 9   \n",
       "4   5   65  Female  140621              21                 3   \n",
       "\n",
       "   purchase_frequency preferred_category  last_purchase_amount  \n",
       "0                  24          Groceries                113.53  \n",
       "1                  42             Sports                 41.93  \n",
       "2                  28           Clothing                424.36  \n",
       "3                   5      Home & Garden                991.93  \n",
       "4                  25        Electronics                347.08  "
      ]
     },
     "execution_count": 42,
     "metadata": {},
     "output_type": "execute_result"
    }
   ],
   "source": [
    "df.head()"
   ]
  },
  {
   "cell_type": "code",
   "execution_count": 43,
   "id": "844daa54",
   "metadata": {
    "execution": {
     "iopub.execute_input": "2024-07-02T12:19:42.315847Z",
     "iopub.status.busy": "2024-07-02T12:19:42.315021Z",
     "iopub.status.idle": "2024-07-02T12:19:42.329526Z",
     "shell.execute_reply": "2024-07-02T12:19:42.328244Z"
    },
    "papermill": {
     "duration": 0.030945,
     "end_time": "2024-07-02T12:19:42.332470",
     "exception": false,
     "start_time": "2024-07-02T12:19:42.301525",
     "status": "completed"
    },
    "tags": []
   },
   "outputs": [
    {
     "data": {
      "text/html": [
       "<div>\n",
       "<style scoped>\n",
       "    .dataframe tbody tr th:only-of-type {\n",
       "        vertical-align: middle;\n",
       "    }\n",
       "\n",
       "    .dataframe tbody tr th {\n",
       "        vertical-align: top;\n",
       "    }\n",
       "\n",
       "    .dataframe thead th {\n",
       "        text-align: right;\n",
       "    }\n",
       "</style>\n",
       "<table border=\"1\" class=\"dataframe\">\n",
       "  <thead>\n",
       "    <tr style=\"text-align: right;\">\n",
       "      <th></th>\n",
       "      <th>spending_score</th>\n",
       "      <th>membership_years</th>\n",
       "    </tr>\n",
       "  </thead>\n",
       "  <tbody>\n",
       "    <tr>\n",
       "      <th>spending_score</th>\n",
       "      <td>1.000000</td>\n",
       "      <td>0.026726</td>\n",
       "    </tr>\n",
       "    <tr>\n",
       "      <th>membership_years</th>\n",
       "      <td>0.026726</td>\n",
       "      <td>1.000000</td>\n",
       "    </tr>\n",
       "  </tbody>\n",
       "</table>\n",
       "</div>"
      ],
      "text/plain": [
       "                  spending_score  membership_years\n",
       "spending_score          1.000000          0.026726\n",
       "membership_years        0.026726          1.000000"
      ]
     },
     "execution_count": 43,
     "metadata": {},
     "output_type": "execute_result"
    }
   ],
   "source": [
    "spending_membership = df[['spending_score', 'membership_years']]\n",
    "spending_membership.corr()"
   ]
  },
  {
   "cell_type": "markdown",
   "id": "1f9f17ad",
   "metadata": {
    "papermill": {
     "duration": 0.012211,
     "end_time": "2024-07-02T12:19:42.357269",
     "exception": false,
     "start_time": "2024-07-02T12:19:42.345058",
     "status": "completed"
    },
    "tags": []
   },
   "source": [
    "There is no correlation between spending score and customer loyalty as I would think"
   ]
  },
  {
   "cell_type": "code",
   "execution_count": 44,
   "id": "635ca6d9",
   "metadata": {
    "execution": {
     "iopub.execute_input": "2024-07-02T12:19:42.384347Z",
     "iopub.status.busy": "2024-07-02T12:19:42.383557Z",
     "iopub.status.idle": "2024-07-02T12:19:43.405828Z",
     "shell.execute_reply": "2024-07-02T12:19:43.404623Z"
    },
    "papermill": {
     "duration": 1.038742,
     "end_time": "2024-07-02T12:19:43.408568",
     "exception": false,
     "start_time": "2024-07-02T12:19:42.369826",
     "status": "completed"
    },
    "tags": []
   },
   "outputs": [
    {
     "data": {
      "text/plain": [
       "<seaborn.axisgrid.FacetGrid at 0x7a444804f5f0>"
      ]
     },
     "execution_count": 44,
     "metadata": {},
     "output_type": "execute_result"
    },
    {
     "data": {
      "image/png": "[encoded data removed]",
      "text/plain": [
       "<Figure size 600.25x500 with 1 Axes>"
      ]
     },
     "metadata": {},
     "output_type": "display_data"
    }
   ],
   "source": [
    "sns.catplot(x=\"preferred_category\", y=\"membership_years\", hue=\"gender\",\n",
    "    kind=\"bar\", data=df)"
   ]
  },
  {
   "cell_type": "markdown",
   "id": "beac49ef",
   "metadata": {
    "papermill": {
     "duration": 0.012863,
     "end_time": "2024-07-02T12:19:43.435559",
     "exception": false,
     "start_time": "2024-07-02T12:19:43.422696",
     "status": "completed"
    },
    "tags": []
   },
   "source": [
    "Gender differences seems to be relevant in terms of loyalty in certain categories ('Clothing')"
   ]
  },
  {
   "cell_type": "code",
   "execution_count": 45,
   "id": "a5e355b1",
   "metadata": {
    "execution": {
     "iopub.execute_input": "2024-07-02T12:19:43.463814Z",
     "iopub.status.busy": "2024-07-02T12:19:43.463370Z",
     "iopub.status.idle": "2024-07-02T12:19:44.516675Z",
     "shell.execute_reply": "2024-07-02T12:19:44.515533Z"
    },
    "papermill": {
     "duration": 1.070537,
     "end_time": "2024-07-02T12:19:44.519412",
     "exception": false,
     "start_time": "2024-07-02T12:19:43.448875",
     "status": "completed"
    },
    "tags": []
   },
   "outputs": [
    {
     "data": {
      "text/plain": [
       "<seaborn.axisgrid.FacetGrid at 0x7a4447439970>"
      ]
     },
     "execution_count": 45,
     "metadata": {},
     "output_type": "execute_result"
    },
    {
     "data": {
      "image/png": "[encoded data removed]",
      "text/plain": [
       "<Figure size 600.25x500 with 1 Axes>"
      ]
     },
     "metadata": {},
     "output_type": "display_data"
    }
   ],
   "source": [
    "sns.catplot(x=\"preferred_category\", y=\"spending_score\", hue=\"gender\",\n",
    "    kind=\"bar\", data=df)"
   ]
  },
  {
   "cell_type": "markdown",
   "id": "28ceb5fd",
   "metadata": {
    "papermill": {
     "duration": 0.013987,
     "end_time": "2024-07-02T12:19:44.547308",
     "exception": false,
     "start_time": "2024-07-02T12:19:44.533321",
     "status": "completed"
    },
    "tags": []
   },
   "source": [
    "The same can be said for spending score: women seems to have an higher spenging score in 'Home & Gardening'"
   ]
  },
  {
   "cell_type": "code",
   "execution_count": 46,
   "id": "4ac457e9",
   "metadata": {
    "execution": {
     "iopub.execute_input": "2024-07-02T12:19:44.576480Z",
     "iopub.status.busy": "2024-07-02T12:19:44.576076Z",
     "iopub.status.idle": "2024-07-02T12:19:45.694135Z",
     "shell.execute_reply": "2024-07-02T12:19:45.692939Z"
    },
    "papermill": {
     "duration": 1.135629,
     "end_time": "2024-07-02T12:19:45.696693",
     "exception": false,
     "start_time": "2024-07-02T12:19:44.561064",
     "status": "completed"
    },
    "tags": []
   },
   "outputs": [
    {
     "data": {
      "text/plain": [
       "<seaborn.axisgrid.FacetGrid at 0x7a44475b77a0>"
      ]
     },
     "execution_count": 46,
     "metadata": {},
     "output_type": "execute_result"
    },
    {
     "data": {
      "image/png": "[encoded data removed]",
      "text/plain": [
       "<Figure size 600.25x500 with 1 Axes>"
      ]
     },
     "metadata": {},
     "output_type": "display_data"
    }
   ],
   "source": [
    "sns.catplot(x=\"preferred_category\", y=\"purchase_frequency\", hue=\"gender\",\n",
    "    kind=\"bar\", data=df)"
   ]
  },
  {
   "cell_type": "markdown",
   "id": "c1835bb0",
   "metadata": {
    "papermill": {
     "duration": 0.014098,
     "end_time": "2024-07-02T12:19:45.725899",
     "exception": false,
     "start_time": "2024-07-02T12:19:45.711801",
     "status": "completed"
    },
    "tags": []
   },
   "source": [
    "'Home and Gargening' category have an higher purchase frequency among men"
   ]
  },
  {
   "cell_type": "code",
   "execution_count": 47,
   "id": "2a81bc60",
   "metadata": {
    "execution": {
     "iopub.execute_input": "2024-07-02T12:19:45.758603Z",
     "iopub.status.busy": "2024-07-02T12:19:45.757826Z",
     "iopub.status.idle": "2024-07-02T12:19:45.779398Z",
     "shell.execute_reply": "2024-07-02T12:19:45.778009Z"
    },
    "papermill": {
     "duration": 0.041175,
     "end_time": "2024-07-02T12:19:45.782346",
     "exception": false,
     "start_time": "2024-07-02T12:19:45.741171",
     "status": "completed"
    },
    "tags": []
   },
   "outputs": [
    {
     "data": {
      "text/html": [
       "<div>\n",
       "<style scoped>\n",
       "    .dataframe tbody tr th:only-of-type {\n",
       "        vertical-align: middle;\n",
       "    }\n",
       "\n",
       "    .dataframe tbody tr th {\n",
       "        vertical-align: top;\n",
       "    }\n",
       "\n",
       "    .dataframe thead th {\n",
       "        text-align: right;\n",
       "    }\n",
       "</style>\n",
       "<table border=\"1\" class=\"dataframe\">\n",
       "  <thead>\n",
       "    <tr style=\"text-align: right;\">\n",
       "      <th></th>\n",
       "      <th>max</th>\n",
       "      <th>min</th>\n",
       "      <th>mean</th>\n",
       "    </tr>\n",
       "    <tr>\n",
       "      <th>preferred_category</th>\n",
       "      <th></th>\n",
       "      <th></th>\n",
       "      <th></th>\n",
       "    </tr>\n",
       "  </thead>\n",
       "  <tbody>\n",
       "    <tr>\n",
       "      <th>Clothing</th>\n",
       "      <td>997.24</td>\n",
       "      <td>10.40</td>\n",
       "      <td>489.648412</td>\n",
       "    </tr>\n",
       "    <tr>\n",
       "      <th>Electronics</th>\n",
       "      <td>998.51</td>\n",
       "      <td>13.16</td>\n",
       "      <td>496.632279</td>\n",
       "    </tr>\n",
       "    <tr>\n",
       "      <th>Groceries</th>\n",
       "      <td>992.17</td>\n",
       "      <td>11.01</td>\n",
       "      <td>487.279397</td>\n",
       "    </tr>\n",
       "    <tr>\n",
       "      <th>Home &amp; Garden</th>\n",
       "      <td>999.74</td>\n",
       "      <td>11.29</td>\n",
       "      <td>505.600631</td>\n",
       "    </tr>\n",
       "    <tr>\n",
       "      <th>Sports</th>\n",
       "      <td>998.98</td>\n",
       "      <td>13.46</td>\n",
       "      <td>481.953190</td>\n",
       "    </tr>\n",
       "  </tbody>\n",
       "</table>\n",
       "</div>"
      ],
      "text/plain": [
       "                       max    min        mean\n",
       "preferred_category                           \n",
       "Clothing            997.24  10.40  489.648412\n",
       "Electronics         998.51  13.16  496.632279\n",
       "Groceries           992.17  11.01  487.279397\n",
       "Home & Garden       999.74  11.29  505.600631\n",
       "Sports              998.98  13.46  481.953190"
      ]
     },
     "execution_count": 47,
     "metadata": {},
     "output_type": "execute_result"
    }
   ],
   "source": [
    "df.groupby(['preferred_category'])['last_purchase_amount'].agg({'mean', 'min', 'max'})"
   ]
  },
  {
   "cell_type": "markdown",
   "id": "a87f680a",
   "metadata": {
    "papermill": {
     "duration": 0.014262,
     "end_time": "2024-07-02T12:19:45.811434",
     "exception": false,
     "start_time": "2024-07-02T12:19:45.797172",
     "status": "completed"
    },
    "tags": []
   },
   "source": [
    "'Home & Garden' is the categories with higher 'purchase amount' on average"
   ]
  },
  {
   "cell_type": "markdown",
   "id": "a2fedaa6",
   "metadata": {
    "papermill": {
     "duration": 0.014159,
     "end_time": "2024-07-02T12:19:45.840319",
     "exception": false,
     "start_time": "2024-07-02T12:19:45.826160",
     "status": "completed"
    },
    "tags": []
   },
   "source": [
    "## Data Transformation"
   ]
  },
  {
   "cell_type": "code",
   "execution_count": 48,
   "id": "79120544",
   "metadata": {
    "execution": {
     "iopub.execute_input": "2024-07-02T12:19:45.871834Z",
     "iopub.status.busy": "2024-07-02T12:19:45.871458Z",
     "iopub.status.idle": "2024-07-02T12:19:45.877267Z",
     "shell.execute_reply": "2024-07-02T12:19:45.875947Z"
    },
    "papermill": {
     "duration": 0.024387,
     "end_time": "2024-07-02T12:19:45.879810",
     "exception": false,
     "start_time": "2024-07-02T12:19:45.855423",
     "status": "completed"
    },
    "tags": []
   },
   "outputs": [],
   "source": [
    "bins = [18, 25, 35, 60, 100]\n",
    "group_names = [\"Youth\", \"YoungAdult\", \"MiddleAged\", \"Senior\"]"
   ]
  },
  {
   "cell_type": "code",
   "execution_count": 49,
   "id": "15e1c90a",
   "metadata": {
    "execution": {
     "iopub.execute_input": "2024-07-02T12:19:45.912641Z",
     "iopub.status.busy": "2024-07-02T12:19:45.911870Z",
     "iopub.status.idle": "2024-07-02T12:19:45.929066Z",
     "shell.execute_reply": "2024-07-02T12:19:45.927750Z"
    },
    "papermill": {
     "duration": 0.036267,
     "end_time": "2024-07-02T12:19:45.931774",
     "exception": false,
     "start_time": "2024-07-02T12:19:45.895507",
     "status": "completed"
    },
    "tags": []
   },
   "outputs": [
    {
     "data": {
      "text/plain": [
       "0      MiddleAged\n",
       "1           Youth\n",
       "2      MiddleAged\n",
       "3      MiddleAged\n",
       "4          Senior\n",
       "          ...    \n",
       "995    MiddleAged\n",
       "996         Youth\n",
       "997         Youth\n",
       "998         Youth\n",
       "999    MiddleAged\n",
       "Name: age, Length: 1000, dtype: category\n",
       "Categories (4, object): ['Youth' < 'YoungAdult' < 'MiddleAged' < 'Senior']"
      ]
     },
     "execution_count": 49,
     "metadata": {},
     "output_type": "execute_result"
    }
   ],
   "source": [
    "age_categories = pd.cut(df['age'], bins, labels=group_names)\n",
    "age_categories"
   ]
  },
  {
   "cell_type": "code",
   "execution_count": 50,
   "id": "3692e66c",
   "metadata": {
    "execution": {
     "iopub.execute_input": "2024-07-02T12:19:45.964102Z",
     "iopub.status.busy": "2024-07-02T12:19:45.963188Z",
     "iopub.status.idle": "2024-07-02T12:19:45.973369Z",
     "shell.execute_reply": "2024-07-02T12:19:45.972103Z"
    },
    "papermill": {
     "duration": 0.029387,
     "end_time": "2024-07-02T12:19:45.976098",
     "exception": false,
     "start_time": "2024-07-02T12:19:45.946711",
     "status": "completed"
    },
    "tags": []
   },
   "outputs": [
    {
     "data": {
      "text/plain": [
       "age\n",
       "MiddleAged    481\n",
       "YoungAdult    198\n",
       "Senior        177\n",
       "Youth         123\n",
       "Name: count, dtype: int64"
      ]
     },
     "execution_count": 50,
     "metadata": {},
     "output_type": "execute_result"
    }
   ],
   "source": [
    "age_categories.value_counts()"
   ]
  },
  {
   "cell_type": "code",
   "execution_count": 51,
   "id": "ca43237c",
   "metadata": {
    "execution": {
     "iopub.execute_input": "2024-07-02T12:19:46.007787Z",
     "iopub.status.busy": "2024-07-02T12:19:46.007378Z",
     "iopub.status.idle": "2024-07-02T12:19:46.014178Z",
     "shell.execute_reply": "2024-07-02T12:19:46.012730Z"
    },
    "papermill": {
     "duration": 0.025767,
     "end_time": "2024-07-02T12:19:46.016980",
     "exception": false,
     "start_time": "2024-07-02T12:19:45.991213",
     "status": "completed"
    },
    "tags": []
   },
   "outputs": [],
   "source": [
    "df['seniority'] = age_categories"
   ]
  },
  {
   "cell_type": "code",
   "execution_count": 52,
   "id": "c8010c3f",
   "metadata": {
    "execution": {
     "iopub.execute_input": "2024-07-02T12:19:46.049597Z",
     "iopub.status.busy": "2024-07-02T12:19:46.049176Z",
     "iopub.status.idle": "2024-07-02T12:19:46.060862Z",
     "shell.execute_reply": "2024-07-02T12:19:46.059489Z"
    },
    "papermill": {
     "duration": 0.030827,
     "end_time": "2024-07-02T12:19:46.063447",
     "exception": false,
     "start_time": "2024-07-02T12:19:46.032620",
     "status": "completed"
    },
    "tags": []
   },
   "outputs": [
    {
     "data": {
      "text/plain": [
       "seniority\n",
       "Youth         44.609756\n",
       "YoungAdult    51.737374\n",
       "MiddleAged    51.733888\n",
       "Senior        50.785311\n",
       "Name: spending_score, dtype: float64"
      ]
     },
     "execution_count": 52,
     "metadata": {},
     "output_type": "execute_result"
    }
   ],
   "source": [
    "df.groupby('seniority', observed=False)['spending_score'].mean()"
   ]
  },
  {
   "cell_type": "code",
   "execution_count": 53,
   "id": "7e9b9cd6",
   "metadata": {
    "execution": {
     "iopub.execute_input": "2024-07-02T12:19:46.096191Z",
     "iopub.status.busy": "2024-07-02T12:19:46.095758Z",
     "iopub.status.idle": "2024-07-02T12:19:46.106905Z",
     "shell.execute_reply": "2024-07-02T12:19:46.105830Z"
    },
    "papermill": {
     "duration": 0.030423,
     "end_time": "2024-07-02T12:19:46.109376",
     "exception": false,
     "start_time": "2024-07-02T12:19:46.078953",
     "status": "completed"
    },
    "tags": []
   },
   "outputs": [
    {
     "data": {
      "text/plain": [
       "seniority\n",
       "Youth         478.516829\n",
       "YoungAdult    478.278384\n",
       "MiddleAged    496.696258\n",
       "Senior        514.272316\n",
       "Name: last_purchase_amount, dtype: float64"
      ]
     },
     "execution_count": 53,
     "metadata": {},
     "output_type": "execute_result"
    }
   ],
   "source": [
    "df.groupby('seniority', observed=False)['last_purchase_amount'].mean()"
   ]
  },
  {
   "cell_type": "code",
   "execution_count": 54,
   "id": "d3c7eb78",
   "metadata": {
    "execution": {
     "iopub.execute_input": "2024-07-02T12:19:46.141627Z",
     "iopub.status.busy": "2024-07-02T12:19:46.141252Z",
     "iopub.status.idle": "2024-07-02T12:19:46.147604Z",
     "shell.execute_reply": "2024-07-02T12:19:46.146277Z"
    },
    "papermill": {
     "duration": 0.02528,
     "end_time": "2024-07-02T12:19:46.149842",
     "exception": false,
     "start_time": "2024-07-02T12:19:46.124562",
     "status": "completed"
    },
    "tags": []
   },
   "outputs": [],
   "source": [
    "income_bins = np.linspace(min(df['income']), max(df['income']), 4)\n",
    "income_labels = [\"lower\", \"med\", \"higher\"]"
   ]
  },
  {
   "cell_type": "code",
   "execution_count": 55,
   "id": "ac1f425d",
   "metadata": {
    "execution": {
     "iopub.execute_input": "2024-07-02T12:19:46.182884Z",
     "iopub.status.busy": "2024-07-02T12:19:46.182449Z",
     "iopub.status.idle": "2024-07-02T12:19:46.194826Z",
     "shell.execute_reply": "2024-07-02T12:19:46.193690Z"
    },
    "papermill": {
     "duration": 0.03162,
     "end_time": "2024-07-02T12:19:46.197291",
     "exception": false,
     "start_time": "2024-07-02T12:19:46.165671",
     "status": "completed"
    },
    "tags": []
   },
   "outputs": [
    {
     "data": {
      "text/plain": [
       "0         med\n",
       "1         med\n",
       "2      higher\n",
       "3       lower\n",
       "4      higher\n",
       "        ...  \n",
       "995    higher\n",
       "996     lower\n",
       "997    higher\n",
       "998    higher\n",
       "999       med\n",
       "Name: income, Length: 1000, dtype: category\n",
       "Categories (3, object): ['lower' < 'med' < 'higher']"
      ]
     },
     "execution_count": 55,
     "metadata": {},
     "output_type": "execute_result"
    }
   ],
   "source": [
    "income_categories = pd.cut(df['income'], income_bins, labels = income_labels)\n",
    "income_categories"
   ]
  },
  {
   "cell_type": "code",
   "execution_count": 56,
   "id": "37716e57",
   "metadata": {
    "execution": {
     "iopub.execute_input": "2024-07-02T12:19:46.229980Z",
     "iopub.status.busy": "2024-07-02T12:19:46.229600Z",
     "iopub.status.idle": "2024-07-02T12:19:46.239918Z",
     "shell.execute_reply": "2024-07-02T12:19:46.238667Z"
    },
    "papermill": {
     "duration": 0.029629,
     "end_time": "2024-07-02T12:19:46.242353",
     "exception": false,
     "start_time": "2024-07-02T12:19:46.212724",
     "status": "completed"
    },
    "tags": []
   },
   "outputs": [
    {
     "data": {
      "text/plain": [
       "income\n",
       "lower     347\n",
       "med       340\n",
       "higher    312\n",
       "Name: count, dtype: int64"
      ]
     },
     "execution_count": 56,
     "metadata": {},
     "output_type": "execute_result"
    }
   ],
   "source": [
    "income_categories.value_counts()"
   ]
  },
  {
   "cell_type": "code",
   "execution_count": 57,
   "id": "52f823f9",
   "metadata": {
    "execution": {
     "iopub.execute_input": "2024-07-02T12:19:46.275600Z",
     "iopub.status.busy": "2024-07-02T12:19:46.275205Z",
     "iopub.status.idle": "2024-07-02T12:19:46.281343Z",
     "shell.execute_reply": "2024-07-02T12:19:46.280016Z"
    },
    "papermill": {
     "duration": 0.026005,
     "end_time": "2024-07-02T12:19:46.284071",
     "exception": false,
     "start_time": "2024-07-02T12:19:46.258066",
     "status": "completed"
    },
    "tags": []
   },
   "outputs": [],
   "source": [
    "df['income_cat'] = income_categories"
   ]
  },
  {
   "cell_type": "code",
   "execution_count": 58,
   "id": "c5e41c9d",
   "metadata": {
    "execution": {
     "iopub.execute_input": "2024-07-02T12:19:46.317763Z",
     "iopub.status.busy": "2024-07-02T12:19:46.317299Z",
     "iopub.status.idle": "2024-07-02T12:19:46.340182Z",
     "shell.execute_reply": "2024-07-02T12:19:46.339025Z"
    },
    "papermill": {
     "duration": 0.04265,
     "end_time": "2024-07-02T12:19:46.342570",
     "exception": false,
     "start_time": "2024-07-02T12:19:46.299920",
     "status": "completed"
    },
    "tags": []
   },
   "outputs": [
    {
     "data": {
      "text/html": [
       "<div>\n",
       "<style scoped>\n",
       "    .dataframe tbody tr th:only-of-type {\n",
       "        vertical-align: middle;\n",
       "    }\n",
       "\n",
       "    .dataframe tbody tr th {\n",
       "        vertical-align: top;\n",
       "    }\n",
       "\n",
       "    .dataframe thead th {\n",
       "        text-align: right;\n",
       "    }\n",
       "</style>\n",
       "<table border=\"1\" class=\"dataframe\">\n",
       "  <thead>\n",
       "    <tr style=\"text-align: right;\">\n",
       "      <th></th>\n",
       "      <th>seniority</th>\n",
       "      <th>income_cat</th>\n",
       "      <th>membership_years</th>\n",
       "      <th>spending_score</th>\n",
       "    </tr>\n",
       "  </thead>\n",
       "  <tbody>\n",
       "    <tr>\n",
       "      <th>0</th>\n",
       "      <td>Youth</td>\n",
       "      <td>lower</td>\n",
       "      <td>5.341463</td>\n",
       "      <td>47.146341</td>\n",
       "    </tr>\n",
       "    <tr>\n",
       "      <th>1</th>\n",
       "      <td>Youth</td>\n",
       "      <td>med</td>\n",
       "      <td>5.183673</td>\n",
       "      <td>42.265306</td>\n",
       "    </tr>\n",
       "    <tr>\n",
       "      <th>2</th>\n",
       "      <td>Youth</td>\n",
       "      <td>higher</td>\n",
       "      <td>4.636364</td>\n",
       "      <td>44.939394</td>\n",
       "    </tr>\n",
       "    <tr>\n",
       "      <th>3</th>\n",
       "      <td>YoungAdult</td>\n",
       "      <td>lower</td>\n",
       "      <td>6.013889</td>\n",
       "      <td>52.152778</td>\n",
       "    </tr>\n",
       "    <tr>\n",
       "      <th>4</th>\n",
       "      <td>YoungAdult</td>\n",
       "      <td>med</td>\n",
       "      <td>4.818182</td>\n",
       "      <td>53.696970</td>\n",
       "    </tr>\n",
       "    <tr>\n",
       "      <th>5</th>\n",
       "      <td>YoungAdult</td>\n",
       "      <td>higher</td>\n",
       "      <td>5.616667</td>\n",
       "      <td>49.083333</td>\n",
       "    </tr>\n",
       "    <tr>\n",
       "      <th>6</th>\n",
       "      <td>MiddleAged</td>\n",
       "      <td>lower</td>\n",
       "      <td>5.634731</td>\n",
       "      <td>52.125749</td>\n",
       "    </tr>\n",
       "    <tr>\n",
       "      <th>7</th>\n",
       "      <td>MiddleAged</td>\n",
       "      <td>med</td>\n",
       "      <td>5.654762</td>\n",
       "      <td>52.255952</td>\n",
       "    </tr>\n",
       "    <tr>\n",
       "      <th>8</th>\n",
       "      <td>MiddleAged</td>\n",
       "      <td>higher</td>\n",
       "      <td>5.544828</td>\n",
       "      <td>50.813793</td>\n",
       "    </tr>\n",
       "    <tr>\n",
       "      <th>9</th>\n",
       "      <td>Senior</td>\n",
       "      <td>lower</td>\n",
       "      <td>5.306452</td>\n",
       "      <td>49.161290</td>\n",
       "    </tr>\n",
       "    <tr>\n",
       "      <th>10</th>\n",
       "      <td>Senior</td>\n",
       "      <td>med</td>\n",
       "      <td>5.820000</td>\n",
       "      <td>50.100000</td>\n",
       "    </tr>\n",
       "    <tr>\n",
       "      <th>11</th>\n",
       "      <td>Senior</td>\n",
       "      <td>higher</td>\n",
       "      <td>4.769231</td>\n",
       "      <td>52.861538</td>\n",
       "    </tr>\n",
       "  </tbody>\n",
       "</table>\n",
       "</div>"
      ],
      "text/plain": [
       "     seniority income_cat  membership_years  spending_score\n",
       "0        Youth      lower          5.341463       47.146341\n",
       "1        Youth        med          5.183673       42.265306\n",
       "2        Youth     higher          4.636364       44.939394\n",
       "3   YoungAdult      lower          6.013889       52.152778\n",
       "4   YoungAdult        med          4.818182       53.696970\n",
       "5   YoungAdult     higher          5.616667       49.083333\n",
       "6   MiddleAged      lower          5.634731       52.125749\n",
       "7   MiddleAged        med          5.654762       52.255952\n",
       "8   MiddleAged     higher          5.544828       50.813793\n",
       "9       Senior      lower          5.306452       49.161290\n",
       "10      Senior        med          5.820000       50.100000\n",
       "11      Senior     higher          4.769231       52.861538"
      ]
     },
     "execution_count": 58,
     "metadata": {},
     "output_type": "execute_result"
    }
   ],
   "source": [
    "seniority_membership = df.groupby(['seniority', 'income_cat'], observed=False)[['membership_years', 'spending_score']].mean()\n",
    "seniority_membership.reset_index()"
   ]
  },
  {
   "cell_type": "markdown",
   "id": "04492a63",
   "metadata": {
    "papermill": {
     "duration": 0.01578,
     "end_time": "2024-07-02T12:19:46.374484",
     "exception": false,
     "start_time": "2024-07-02T12:19:46.358704",
     "status": "completed"
    },
    "tags": []
   },
   "source": [
    "## Cluster Analysis"
   ]
  },
  {
   "cell_type": "code",
   "execution_count": 59,
   "id": "c6965400",
   "metadata": {
    "execution": {
     "iopub.execute_input": "2024-07-02T12:19:46.440840Z",
     "iopub.status.busy": "2024-07-02T12:19:46.439610Z",
     "iopub.status.idle": "2024-07-02T12:19:46.451457Z",
     "shell.execute_reply": "2024-07-02T12:19:46.450002Z"
    },
    "papermill": {
     "duration": 0.032294,
     "end_time": "2024-07-02T12:19:46.454490",
     "exception": false,
     "start_time": "2024-07-02T12:19:46.422196",
     "status": "completed"
    },
    "tags": []
   },
   "outputs": [],
   "source": [
    "imputer = SimpleImputer(strategy='mean')\n",
    "df_imputed = imputer.fit_transform(df.select_dtypes(include=[float, int]))"
   ]
  },
  {
   "cell_type": "code",
   "execution_count": 60,
   "id": "ff4969f5",
   "metadata": {
    "execution": {
     "iopub.execute_input": "2024-07-02T12:19:46.488737Z",
     "iopub.status.busy": "2024-07-02T12:19:46.487826Z",
     "iopub.status.idle": "2024-07-02T12:19:46.494418Z",
     "shell.execute_reply": "2024-07-02T12:19:46.493180Z"
    },
    "papermill": {
     "duration": 0.026425,
     "end_time": "2024-07-02T12:19:46.497036",
     "exception": false,
     "start_time": "2024-07-02T12:19:46.470611",
     "status": "completed"
    },
    "tags": []
   },
   "outputs": [],
   "source": [
    "scaler = StandardScaler()\n",
    "df_scaled = scaler.fit_transform(df_imputed)"
   ]
  },
  {
   "cell_type": "code",
   "execution_count": 61,
   "id": "aa4cfcb7",
   "metadata": {
    "execution": {
     "iopub.execute_input": "2024-07-02T12:19:46.530809Z",
     "iopub.status.busy": "2024-07-02T12:19:46.530394Z",
     "iopub.status.idle": "2024-07-02T12:19:46.542775Z",
     "shell.execute_reply": "2024-07-02T12:19:46.541720Z"
    },
    "papermill": {
     "duration": 0.032164,
     "end_time": "2024-07-02T12:19:46.545268",
     "exception": false,
     "start_time": "2024-07-02T12:19:46.513104",
     "status": "completed"
    },
    "tags": []
   },
   "outputs": [],
   "source": [
    "encoder = OneHotEncoder(sparse_output=False)\n",
    "df_categorical = df.select_dtypes(include=[object])\n",
    "df_encoded = encoder.fit_transform(df_categorical)"
   ]
  },
  {
   "cell_type": "code",
   "execution_count": 62,
   "id": "5646dbd5",
   "metadata": {
    "execution": {
     "iopub.execute_input": "2024-07-02T12:19:46.579016Z",
     "iopub.status.busy": "2024-07-02T12:19:46.578607Z",
     "iopub.status.idle": "2024-07-02T12:19:46.584489Z",
     "shell.execute_reply": "2024-07-02T12:19:46.583273Z"
    },
    "papermill": {
     "duration": 0.025545,
     "end_time": "2024-07-02T12:19:46.586855",
     "exception": false,
     "start_time": "2024-07-02T12:19:46.561310",
     "status": "completed"
    },
    "tags": []
   },
   "outputs": [],
   "source": [
    "df_final = np.hstack((df_scaled, df_encoded))\n",
    "df_final = pd.DataFrame(df_final)"
   ]
  },
  {
   "cell_type": "code",
   "execution_count": 63,
   "id": "f38d6600",
   "metadata": {
    "execution": {
     "iopub.execute_input": "2024-07-02T12:19:46.620431Z",
     "iopub.status.busy": "2024-07-02T12:19:46.619998Z",
     "iopub.status.idle": "2024-07-02T12:19:46.653632Z",
     "shell.execute_reply": "2024-07-02T12:19:46.652600Z"
    },
    "papermill": {
     "duration": 0.053658,
     "end_time": "2024-07-02T12:19:46.656371",
     "exception": false,
     "start_time": "2024-07-02T12:19:46.602713",
     "status": "completed"
    },
    "tags": []
   },
   "outputs": [],
   "source": [
    "Z = linkage(df_final, method='ward')"
   ]
  },
  {
   "cell_type": "code",
   "execution_count": 71,
   "id": "54300504",
   "metadata": {
    "execution": {
     "iopub.execute_input": "2024-07-02T12:19:46.690221Z",
     "iopub.status.busy": "2024-07-02T12:19:46.689784Z",
     "iopub.status.idle": "2024-07-02T12:19:58.548740Z",
     "shell.execute_reply": "2024-07-02T12:19:58.547510Z"
    },
    "papermill": {
     "duration": 11.880365,
     "end_time": "2024-07-02T12:19:58.552811",
     "exception": false,
     "start_time": "2024-07-02T12:19:46.672446",
     "status": "completed"
    },
    "tags": []
   },
   "outputs": [
    {
     "data": {
      "image/png": "[encoded data removed]",
      "text/plain": [
       "<Figure size 1000x700 with 1 Axes>"
      ]
     },
     "metadata": {},
     "output_type": "display_data"
    },
    {
     "name": "stdout",
     "output_type": "stream",
     "text": [
      "Number of cluster: 5\n"
     ]
    }
   ],
   "source": [
    "k = 5  # the clusters number\n",
    "clusters = fcluster(Z, k, criterion='maxclust')\n",
    "\n",
    "#Outcome visualization\n",
    "plt.figure(figsize=(10, 7))\n",
    "dendrogram(Z, color_threshold=None)\n",
    "plt.show()\n",
    "\n",
    "print(\"Number of cluster:\", len(set(clusters)))"
   ]
  },
  {
   "cell_type": "code",
   "execution_count": 65,
   "id": "33824bab",
   "metadata": {
    "execution": {
     "iopub.execute_input": "2024-07-02T12:19:58.588699Z",
     "iopub.status.busy": "2024-07-02T12:19:58.587819Z",
     "iopub.status.idle": "2024-07-02T12:19:58.700582Z",
     "shell.execute_reply": "2024-07-02T12:19:58.699460Z"
    },
    "papermill": {
     "duration": 0.134167,
     "end_time": "2024-07-02T12:19:58.703878",
     "exception": false,
     "start_time": "2024-07-02T12:19:58.569711",
     "status": "completed"
    },
    "tags": []
   },
   "outputs": [
    {
     "name": "stdout",
     "output_type": "stream",
     "text": [
      "\n",
      "Cluster 1:\n",
      "                id         age         income  spending_score  \\\n",
      "count   292.000000  292.000000     292.000000      292.000000   \n",
      "mean    465.955479   29.530822   90277.797945       37.948630   \n",
      "std     291.004153    8.788606   32383.321978       24.277903   \n",
      "min       1.000000   18.000000   30102.000000        1.000000   \n",
      "25%     195.250000   22.000000   62060.500000       19.000000   \n",
      "50%     501.000000   29.000000   90488.500000       36.000000   \n",
      "75%     701.250000   34.000000  114496.500000       53.250000   \n",
      "max    1000.000000   60.000000  149973.000000       96.000000   \n",
      "\n",
      "       membership_years  purchase_frequency  last_purchase_amount  cluster  \n",
      "count        292.000000          292.000000            292.000000    292.0  \n",
      "mean           5.184932           26.825342            432.189349      1.0  \n",
      "std            2.767021           14.687126            297.371615      0.0  \n",
      "min            1.000000            1.000000             14.520000      1.0  \n",
      "25%            3.000000           15.000000            139.580000      1.0  \n",
      "50%            5.000000           28.000000            412.820000      1.0  \n",
      "75%            7.000000           40.000000            671.177500      1.0  \n",
      "max           10.000000           50.000000            998.510000      1.0  \n",
      "\n",
      "Cluster 2:\n",
      "               id         age         income  spending_score  \\\n",
      "count  166.000000  166.000000     166.000000      166.000000   \n",
      "mean   477.126506   55.987952  112441.975904       41.337349   \n",
      "std    280.988475    9.417577   25843.241309       26.299108   \n",
      "min      3.000000   21.000000   43965.000000        1.000000   \n",
      "25%    240.000000   50.000000   96430.250000       21.000000   \n",
      "50%    433.000000   57.000000  115499.500000       34.000000   \n",
      "75%    739.750000   63.750000  132466.750000       58.000000   \n",
      "max    996.000000   69.000000  149578.000000      100.000000   \n",
      "\n",
      "       membership_years  purchase_frequency  last_purchase_amount  cluster  \n",
      "count        166.000000          166.000000            166.000000    166.0  \n",
      "mean           4.084337           24.596386            351.003494      2.0  \n",
      "std            2.415630           13.691395            263.901489      0.0  \n",
      "min            1.000000            1.000000             10.400000      2.0  \n",
      "25%            2.000000           13.000000            149.457500      2.0  \n",
      "50%            4.000000           25.000000            270.360000      2.0  \n",
      "75%            5.750000           35.000000            508.727500      2.0  \n",
      "max           10.000000           50.000000            986.970000      2.0  \n",
      "\n",
      "Cluster 3:\n",
      "               id         age         income  spending_score  \\\n",
      "count  188.000000  188.000000     188.000000       188.00000   \n",
      "mean   530.925532   53.696809   65283.702128        33.00000   \n",
      "std    276.219057    9.380181   25441.482187        24.11359   \n",
      "min      4.000000   29.000000   30058.000000         1.00000   \n",
      "25%    304.500000   46.750000   45444.500000        11.75000   \n",
      "50%    557.000000   53.500000   59574.500000        28.00000   \n",
      "75%    763.250000   61.000000   83265.750000        50.25000   \n",
      "max    986.000000   69.000000  145190.000000       100.00000   \n",
      "\n",
      "       membership_years  purchase_frequency  last_purchase_amount  cluster  \n",
      "count        188.000000          188.000000            188.000000    188.0  \n",
      "mean           5.664894           25.877660            611.523830      3.0  \n",
      "std            2.801726           15.086947            267.981479      0.0  \n",
      "min            1.000000            1.000000             15.720000      3.0  \n",
      "25%            3.000000           12.000000            438.800000      3.0  \n",
      "50%            6.000000           26.000000            647.270000      3.0  \n",
      "75%            8.000000           39.000000            834.032500      3.0  \n",
      "max           10.000000           50.000000            997.240000      3.0  \n",
      "\n",
      "Cluster 4:\n",
      "               id         age         income  spending_score  \\\n",
      "count  144.000000  144.000000     144.000000      144.000000   \n",
      "mean   266.576389   46.048611   90738.423611       71.472222   \n",
      "std    174.194513   14.264892   36115.591204       20.910045   \n",
      "min      8.000000   18.000000   30004.000000        3.000000   \n",
      "25%    123.500000   34.000000   56317.000000       59.000000   \n",
      "50%    228.000000   47.000000   99514.500000       75.000000   \n",
      "75%    387.500000   58.000000  118735.250000       88.250000   \n",
      "max    886.000000   69.000000  149062.000000      100.000000   \n",
      "\n",
      "       membership_years  purchase_frequency  last_purchase_amount  cluster  \n",
      "count        144.000000          144.000000            144.000000    144.0  \n",
      "mean           8.097222           32.180556            588.555972      4.0  \n",
      "std            1.640056           11.625661            291.050947      0.0  \n",
      "min            4.000000            3.000000             11.290000      4.0  \n",
      "25%            7.000000           24.750000            369.027500      4.0  \n",
      "50%            9.000000           32.000000            633.115000      4.0  \n",
      "75%            9.000000           42.000000            844.615000      4.0  \n",
      "max           10.000000           50.000000            999.740000      4.0  \n",
      "\n",
      "Cluster 5:\n",
      "               id         age         income  spending_score  \\\n",
      "count  210.000000  210.000000     210.000000      210.000000   \n",
      "mean   700.176190   43.523810   86355.457143       77.361905   \n",
      "std    220.812771   13.853019   34485.557775       15.205529   \n",
      "min     50.000000   18.000000   30074.000000       31.000000   \n",
      "25%    533.750000   31.250000   58528.500000       69.000000   \n",
      "50%    747.000000   43.000000   81505.000000       77.000000   \n",
      "75%    883.250000   55.000000  116085.750000       90.750000   \n",
      "max    997.000000   68.000000  149936.000000      100.000000   \n",
      "\n",
      "       membership_years  purchase_frequency  last_purchase_amount  cluster  \n",
      "count        210.000000          210.000000            210.000000    210.0  \n",
      "mean           4.980952           24.671429            515.067905      5.0  \n",
      "std            2.860324           14.013037            277.768173      0.0  \n",
      "min            1.000000            1.000000             11.010000      5.0  \n",
      "25%            2.000000           13.000000            279.150000      5.0  \n",
      "50%            5.000000           23.000000            536.995000      5.0  \n",
      "75%            7.000000           37.000000            728.290000      5.0  \n",
      "max           10.000000           50.000000            992.170000      5.0  \n"
     ]
    }
   ],
   "source": [
    "# Add clusters to the original dataframe\n",
    "df['cluster'] = clusters\n",
    "\n",
    "# Cluster analysis\n",
    "for cluster in set(clusters):\n",
    "    print(f\"\\nCluster {cluster}:\")\n",
    "    print(df[df['cluster'] == cluster].describe())"
   ]
  },
  {
   "cell_type": "code",
   "execution_count": 66,
   "id": "d7f4b017",
   "metadata": {
    "execution": {
     "iopub.execute_input": "2024-07-02T12:19:58.740262Z",
     "iopub.status.busy": "2024-07-02T12:19:58.739828Z",
     "iopub.status.idle": "2024-07-02T12:19:58.759075Z",
     "shell.execute_reply": "2024-07-02T12:19:58.757907Z"
    },
    "papermill": {
     "duration": 0.040426,
     "end_time": "2024-07-02T12:19:58.761689",
     "exception": false,
     "start_time": "2024-07-02T12:19:58.721263",
     "status": "completed"
    },
    "tags": []
   },
   "outputs": [
    {
     "data": {
      "text/html": [
       "<div>\n",
       "<style scoped>\n",
       "    .dataframe tbody tr th:only-of-type {\n",
       "        vertical-align: middle;\n",
       "    }\n",
       "\n",
       "    .dataframe tbody tr th {\n",
       "        vertical-align: top;\n",
       "    }\n",
       "\n",
       "    .dataframe thead th {\n",
       "        text-align: right;\n",
       "    }\n",
       "</style>\n",
       "<table border=\"1\" class=\"dataframe\">\n",
       "  <thead>\n",
       "    <tr style=\"text-align: right;\">\n",
       "      <th></th>\n",
       "      <th>age</th>\n",
       "      <th>income</th>\n",
       "      <th>spending_score</th>\n",
       "      <th>membership_years</th>\n",
       "      <th>purchase_frequency</th>\n",
       "      <th>last_purchase_amount</th>\n",
       "    </tr>\n",
       "    <tr>\n",
       "      <th>cluster</th>\n",
       "      <th></th>\n",
       "      <th></th>\n",
       "      <th></th>\n",
       "      <th></th>\n",
       "      <th></th>\n",
       "      <th></th>\n",
       "    </tr>\n",
       "  </thead>\n",
       "  <tbody>\n",
       "    <tr>\n",
       "      <th>1</th>\n",
       "      <td>29.530822</td>\n",
       "      <td>90277.797945</td>\n",
       "      <td>37.948630</td>\n",
       "      <td>5.184932</td>\n",
       "      <td>26.825342</td>\n",
       "      <td>432.189349</td>\n",
       "    </tr>\n",
       "    <tr>\n",
       "      <th>2</th>\n",
       "      <td>55.987952</td>\n",
       "      <td>112441.975904</td>\n",
       "      <td>41.337349</td>\n",
       "      <td>4.084337</td>\n",
       "      <td>24.596386</td>\n",
       "      <td>351.003494</td>\n",
       "    </tr>\n",
       "    <tr>\n",
       "      <th>3</th>\n",
       "      <td>53.696809</td>\n",
       "      <td>65283.702128</td>\n",
       "      <td>33.000000</td>\n",
       "      <td>5.664894</td>\n",
       "      <td>25.877660</td>\n",
       "      <td>611.523830</td>\n",
       "    </tr>\n",
       "    <tr>\n",
       "      <th>4</th>\n",
       "      <td>46.048611</td>\n",
       "      <td>90738.423611</td>\n",
       "      <td>71.472222</td>\n",
       "      <td>8.097222</td>\n",
       "      <td>32.180556</td>\n",
       "      <td>588.555972</td>\n",
       "    </tr>\n",
       "    <tr>\n",
       "      <th>5</th>\n",
       "      <td>43.523810</td>\n",
       "      <td>86355.457143</td>\n",
       "      <td>77.361905</td>\n",
       "      <td>4.980952</td>\n",
       "      <td>24.671429</td>\n",
       "      <td>515.067905</td>\n",
       "    </tr>\n",
       "  </tbody>\n",
       "</table>\n",
       "</div>"
      ],
      "text/plain": [
       "               age         income  spending_score  membership_years  \\\n",
       "cluster                                                               \n",
       "1        29.530822   90277.797945       37.948630          5.184932   \n",
       "2        55.987952  112441.975904       41.337349          4.084337   \n",
       "3        53.696809   65283.702128       33.000000          5.664894   \n",
       "4        46.048611   90738.423611       71.472222          8.097222   \n",
       "5        43.523810   86355.457143       77.361905          4.980952   \n",
       "\n",
       "         purchase_frequency  last_purchase_amount  \n",
       "cluster                                            \n",
       "1                 26.825342            432.189349  \n",
       "2                 24.596386            351.003494  \n",
       "3                 25.877660            611.523830  \n",
       "4                 32.180556            588.555972  \n",
       "5                 24.671429            515.067905  "
      ]
     },
     "execution_count": 66,
     "metadata": {},
     "output_type": "execute_result"
    }
   ],
   "source": [
    "df.groupby('cluster')[['age', 'income', 'spending_score', 'membership_years', \n",
    "                       'purchase_frequency', 'last_purchase_amount']].mean()"
   ]
  },
  {
   "cell_type": "code",
   "execution_count": 74,
   "id": "7f99f0af",
   "metadata": {
    "execution": {
     "iopub.execute_input": "2024-07-02T12:19:58.799632Z",
     "iopub.status.busy": "2024-07-02T12:19:58.798536Z",
     "iopub.status.idle": "2024-07-02T12:19:58.819422Z",
     "shell.execute_reply": "2024-07-02T12:19:58.817995Z"
    },
    "papermill": {
     "duration": 0.043085,
     "end_time": "2024-07-02T12:19:58.822149",
     "exception": false,
     "start_time": "2024-07-02T12:19:58.779064",
     "status": "completed"
    },
    "tags": []
   },
   "outputs": [
    {
     "data": {
      "text/html": [
       "<div>\n",
       "<style scoped>\n",
       "    .dataframe tbody tr th:only-of-type {\n",
       "        vertical-align: middle;\n",
       "    }\n",
       "\n",
       "    .dataframe tbody tr th {\n",
       "        vertical-align: top;\n",
       "    }\n",
       "\n",
       "    .dataframe thead th {\n",
       "        text-align: right;\n",
       "    }\n",
       "</style>\n",
       "<table border=\"1\" class=\"dataframe\">\n",
       "  <thead>\n",
       "    <tr style=\"text-align: right;\">\n",
       "      <th>preferred_category</th>\n",
       "      <th>Clothing</th>\n",
       "      <th>Electronics</th>\n",
       "      <th>Groceries</th>\n",
       "      <th>Home &amp; Garden</th>\n",
       "      <th>Sports</th>\n",
       "    </tr>\n",
       "    <tr>\n",
       "      <th>cluster</th>\n",
       "      <th></th>\n",
       "      <th></th>\n",
       "      <th></th>\n",
       "      <th></th>\n",
       "      <th></th>\n",
       "    </tr>\n",
       "  </thead>\n",
       "  <tbody>\n",
       "    <tr>\n",
       "      <th>1</th>\n",
       "      <td>43</td>\n",
       "      <td>70</td>\n",
       "      <td>62</td>\n",
       "      <td>56</td>\n",
       "      <td>61</td>\n",
       "    </tr>\n",
       "    <tr>\n",
       "      <th>2</th>\n",
       "      <td>26</td>\n",
       "      <td>47</td>\n",
       "      <td>27</td>\n",
       "      <td>33</td>\n",
       "      <td>33</td>\n",
       "    </tr>\n",
       "    <tr>\n",
       "      <th>3</th>\n",
       "      <td>42</td>\n",
       "      <td>28</td>\n",
       "      <td>31</td>\n",
       "      <td>46</td>\n",
       "      <td>41</td>\n",
       "    </tr>\n",
       "    <tr>\n",
       "      <th>4</th>\n",
       "      <td>23</td>\n",
       "      <td>31</td>\n",
       "      <td>24</td>\n",
       "      <td>31</td>\n",
       "      <td>35</td>\n",
       "    </tr>\n",
       "    <tr>\n",
       "      <th>5</th>\n",
       "      <td>36</td>\n",
       "      <td>39</td>\n",
       "      <td>55</td>\n",
       "      <td>40</td>\n",
       "      <td>40</td>\n",
       "    </tr>\n",
       "  </tbody>\n",
       "</table>\n",
       "</div>"
      ],
      "text/plain": [
       "preferred_category  Clothing  Electronics  Groceries  Home & Garden  Sports\n",
       "cluster                                                                    \n",
       "1                         43           70         62             56      61\n",
       "2                         26           47         27             33      33\n",
       "3                         42           28         31             46      41\n",
       "4                         23           31         24             31      35\n",
       "5                         36           39         55             40      40"
      ]
     },
     "execution_count": 74,
     "metadata": {},
     "output_type": "execute_result"
    }
   ],
   "source": [
    "cluster_by_category = df.groupby(['cluster', 'preferred_category'])['id'].count()\n",
    "cluster_by_category.unstack()"
   ]
  },
  {
   "cell_type": "markdown",
   "id": "f9a6068a",
   "metadata": {
    "papermill": {
     "duration": 0.017367,
     "end_time": "2024-07-02T12:19:58.857153",
     "exception": false,
     "start_time": "2024-07-02T12:19:58.839786",
     "status": "completed"
    },
    "tags": []
   },
   "source": [
    "Cluster 1 is prevalently composed by young customers attracted by Electronics.\n",
    "\n",
    "Cluster 2 has got the highiest level of income, even though they don't stand out in terms of loyalty and propensity to consume (purchase_frequency + purchase_amount), they also have a low interest in Clothing.\n",
    "\n",
    "Cluster 3 has got the lowest level of income and spending score, but with the highest level of propensity to consume.\n",
    "\n",
    "Cluster 4 -5 instead is determinated by income level and spending score but a different level of loyalty."
   ]
  }
 ],
 "metadata": {
  "kaggle": {
   "accelerator": "none",
   "dataSources": [
    {
     "datasetId": 5300800,
     "sourceId": 8812356,
     "sourceType": "datasetVersion"
    }
   ],
   "dockerImageVersionId": 30732,
   "isGpuEnabled": false,
   "isInternetEnabled": false,
   "language": "python",
   "sourceType": "notebook"
  },
  "kernelspec": {
   "display_name": "Python 3",
   "language": "python",
   "name": "python3"
  },
  "language_info": {
   "codemirror_mode": {
    "name": "ipython",
    "version": 3
   },
   "file_extension": ".py",
   "mimetype": "text/x-python",
   "name": "python",
   "nbconvert_exporter": "python",
   "pygments_lexer": "ipython3",
   "version": "3.12.3"
  },
  "papermill": {
   "default_parameters": {},
   "duration": 23.753738,
   "end_time": "2024-07-02T12:19:59.598490",
   "environment_variables": {},
   "exception": null,
   "input_path": "__notebook__.ipynb",
   "output_path": "__notebook__.ipynb",
   "parameters": {},
   "start_time": "2024-07-02T12:19:35.844752",
   "version": "2.5.0"
  }
 },
 "nbformat": 4,
 "nbformat_minor": 5
}
